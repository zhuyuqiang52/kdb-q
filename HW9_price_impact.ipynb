{
 "cells": [
  {
   "cell_type": "markdown",
   "id": "45ef4cac",
   "metadata": {},
   "source": [
    "# Exercise 1"
   ]
  },
  {
   "cell_type": "markdown",
   "id": "818dbebb",
   "metadata": {},
   "source": [
    "## Compute the correlation $ρ$ between $\\alpha_t$ and $R_t-R_T$ for given a, b."
   ]
  },
  {
   "cell_type": "markdown",
   "id": "40c515d9",
   "metadata": {},
   "source": [
    "$COV(\\alpha_t,R_t-R_T) = E[\\alpha_t(R_t-R_T)]-E[\\alpha_t]E[R_t-R_T] = a\\sigma_R^2(T-t)$\n",
    "\n",
    "$Var[\\alpha_t] = E[\\alpha_t^2] = (a^2\\sigma_R^2+b^2\\sigma_W^2)(T-t)$\n",
    "\n",
    "$Var[R_t-R_T] = \\sigma_R^2(T-t)$\n",
    "\n",
    "$\\rho = \\frac{COV(\\alpha_t,R_t-R_T)}{\\sqrt{Var[\\alpha_t]Var[R_t-R_T]} } = \\sqrt{\\frac{1}{1+\\frac{b^2\\sigma_W^2}{a^2\\sigma_R^2}}}$\n"
   ]
  },
  {
   "cell_type": "markdown",
   "id": "7a493be6",
   "metadata": {},
   "source": [
    "## Pick values of a, b such that $\\alpha_t = E [ R_t − R_T | αt]$ and $ρ = 0.3$"
   ]
  },
  {
   "cell_type": "markdown",
   "id": "565f90f3",
   "metadata": {},
   "source": [
    "View the problem as an OLS problem, which is $R_t-R_T =  \\beta\\alpha_t + \\epsilon_t$, Therefore, from\n",
    "\n",
    "$\\beta = \\rho\\frac{\\sigma_R}{\\sigma_\\alpha} = 1$\n",
    "\n",
    "$\\rho = 0.30$\n",
    "\n",
    " we can get the solution that\n",
    " \n",
    " $a = 0.09$\n",
    " \n",
    " $b = \\sqrt{0.0819}\\frac{\\sigma_R}{\\sigma_W}$"
   ]
  },
  {
   "cell_type": "markdown",
   "id": "a673b6de",
   "metadata": {},
   "source": [
    "## "
   ]
  },
  {
   "cell_type": "code",
   "execution_count": 1,
   "id": "11efa7b9",
   "metadata": {},
   "outputs": [],
   "source": [
    "\\l E:\\pycharm\\PycharmProjects\\kdbq\\columbiaHdb\\ / Loading and Checking data\n"
   ]
  },
  {
   "cell_type": "code",
   "execution_count": 2,
   "id": "26f722f1",
   "metadata": {},
   "outputs": [],
   "source": [
    "\\c 50 10000"
   ]
  },
  {
   "cell_type": "code",
   "execution_count": 3,
   "id": "609c4f8a",
   "metadata": {},
   "outputs": [
    {
     "data": {
      "text/plain": [
       "date       time     id trade     mid      spread        vol         adv           Rt         \r\n",
       "---------------------------------------------------------------------------------------------\r\n",
       "2019.01.03 09:30:00 0  454071.8  91.715   0.001148717   0.000446367 1.122415e+008 -0.02958659\r\n",
       "2019.01.03 09:30:10 0  -171833.3 91.72671 0.001072136   0.000446367 1.122415e+008 -0.02971043\r\n",
       "2019.01.03 09:30:20 0  -301.2193 91.58853 7.658112e-005 0.000446367 1.122415e+008 -0.02824664\r\n",
       "2019.01.03 09:30:30 0  -78884.65 91.65646 0.000612649   0.000446367 1.122415e+008 -0.02896681\r\n",
       "2019.01.03 09:30:40 0  -24705.54 91.60259 0.0008423923  0.000446367 1.122415e+008 -0.02839575\r\n",
       "2019.01.03 09:30:50 0  -92166.19 91.58385 0.0005871219  0.000446367 1.122415e+008 -0.02819692\r\n",
       "2019.01.03 09:31:00 0  -22823.01 91.56276 0.000663703   0.000446367 1.122415e+008 -0.02797313\r\n",
       "2019.01.03 09:31:10 0  -4940.182 91.59088 0.0005615949  0.000446367 1.122415e+008 -0.02827149\r\n",
       "2019.01.03 09:31:20 0  -41691.88 91.59322 0.0005360678  0.000446367 1.122415e+008 -0.02829635\r\n",
       "2019.01.03 09:31:30 0  -539826.4 91.60727 0.0007402842  0.000446367 1.122415e+008 -0.02844544\r\n",
       "2019.01.03 09:31:40 0  -53883.89 91.5487  0.0004594867  0.000446367 1.122415e+008 -0.02782386\r\n",
       "2019.01.03 09:31:50 0  316896.2  91.56745 0.0003063245  0.000446367 1.122415e+008 -0.02802287\r\n",
       "2019.01.03 09:32:00 0  8767.784  91.82033 0.0004594867  0.000446367 1.122415e+008 -0.03069975\r\n",
       "2019.01.03 09:32:10 0  132407.8  91.84138 0.000638176   0.000446367 1.122415e+008 -0.030922  \r\n",
       "2019.01.03 09:32:20 0  -52051.64 92.02614 0.0005615949  0.000446367 1.122415e+008 -0.03286751\r\n",
       "2019.01.03 09:32:30 0  441082.8  92.01445 0.0004339597  0.000446367 1.122415e+008 -0.03274466\r\n",
       "2019.01.03 09:32:40 0  -182.6154 92.23874 0.000638176   0.000446367 1.122415e+008 -0.03509664\r\n",
       "2019.01.03 09:32:50 0  4196.414  92.18269 0.0002807974  0.000446367 1.122415e+008 -0.03450997\r\n",
       "2019.01.03 09:33:00 0  112899.5  92.36479 0.0007402842  0.000446367 1.122415e+008 -0.03641345\r\n",
       "2019.01.03 09:33:10 0  -51038.96 92.27376 0.000612649   0.000446367 1.122415e+008 -0.03546287\r\n",
       "2019.01.03 09:33:20 0  -20440.02 92.19904 0.0003063245  0.000446367 1.122415e+008 -0.03468117\r\n",
       "2019.01.03 09:33:30 0  -121802   92.20604 0.0003318515  0.000446367 1.122415e+008 -0.03475452\r\n",
       "2019.01.03 09:33:40 0  24287.28  92.07989 0.0005360678  0.000446367 1.122415e+008 -0.03343212\r\n",
       "2019.01.03 09:33:50 0  -14046.25 92.17101 0.0004084326  0.000446367 1.122415e+008 -0.03438764\r\n",
       "2019.01.03 09:34:00 0  -12283.33 92.17334 0.0004850138  0.000446367 1.122415e+008 -0.03441211\r\n",
       "2019.01.03 09:34:10 0  -106524.7 92.16634 0.0003573786  0.000446367 1.122415e+008 -0.03433869\r\n",
       "2019.01.03 09:34:20 0  0         92.04016 0.000663703   0.000446367 1.122415e+008 -0.03301488\r\n",
       "2019.01.03 09:34:30 0  -229900.1 92.00276 0.0002552704  0.000446367 1.122415e+008 -0.03262178\r\n",
       "2019.01.03 09:34:40 0  18159.89  91.88817 0.0003318515  0.000446367 1.122415e+008 -0.03141545\r\n",
       "2019.01.03 09:34:50 0  25469.17  91.85074 0.0005360678  0.000446367 1.122415e+008 -0.03102074\r\n",
       "2019.01.03 09:35:00 0  -18781.33 91.94197 0.0003063245  0.000446367 1.122415e+008 -0.03198214\r\n",
       "2019.01.03 09:35:10 0  3026.875  91.89285 0.0005871219  0.000446367 1.122415e+008 -0.03146476\r\n",
       "2019.01.03 09:35:20 0  -21253.42 91.90689 0.0005360678  0.000446367 1.122415e+008 -0.03161265\r\n",
       "2019.01.03 09:35:30 0  -37882.34 91.86946 0.0007402842  0.000446367 1.122415e+008 -0.03121814\r\n",
       "2019.01.03 09:35:40 0  0         91.82033 0.0007147571  0.000446367 1.122415e+008 -0.03069975\r\n",
       "2019.01.03 09:35:50 0  38337.81  91.82267 0.000638176   0.000446367 1.122415e+008 -0.03072445\r\n",
       "2019.01.03 09:36:00 0  -261640.9 91.83437 0.0003063245  0.000446367 1.122415e+008 -0.03084793\r\n",
       "2019.01.03 09:36:10 0  -358734   91.70095 0.0004850138  0.000446367 1.122415e+008 -0.02943793\r\n",
       "2019.01.03 09:36:20 0  -24277.96 91.74309 0.0004339597  0.000446367 1.122415e+008 -0.02988374\r\n",
       "2019.01.03 09:36:30 0  -7837.575 91.63538 0.0007913382  0.000446367 1.122415e+008 -0.02874345\r\n",
       "2019.01.03 09:36:40 0  -68098.53 91.60962 0.0005105408  0.000446367 1.122415e+008 -0.02847028\r\n",
       "2019.01.03 09:36:50 0  -187543.1 91.56979 0.0003318515  0.000446367 1.122415e+008 -0.02804774\r\n",
       "2019.01.03 09:37:00 0  -445392.8 91.45495 0.0003063245  0.000446367 1.122415e+008 -0.02682728\r\n",
       "2019.01.03 09:37:10 0  24626.54  91.25089 0.0004850138  0.000446367 1.122415e+008 -0.02465101\r\n",
       "2019.01.03 09:37:20 0  -8152.001 91.27436 0.0004339597  0.000446367 1.122415e+008 -0.02490177\r\n",
       "..\r\n"
      ]
     },
     "execution_count": 3,
     "metadata": {},
     "output_type": "execute_result"
    }
   ],
   "source": [
    "tb1: select from bin10 where date=2019.01.03\n",
    "/ Filling nan\n",
    "tb1: update reverse fills reverse date,\n",
    "     reverse fills reverse mid,\n",
    "     reverse fills reverse spread,\n",
    "     reverse fills reverse vol,\n",
    "     reverse fills reverse adv\n",
    "     by id from tb1\n",
    "tb1: update Rt: -1+(last mid)%mid by id from tb1\n",
    "tb1"
   ]
  },
  {
   "cell_type": "markdown",
   "id": "00b2d8f1",
   "metadata": {},
   "source": [
    "Since we view $R_t$ as a realization of wiener process, the difference of each adjacent pair of $R_t$, such as $R_{t+1}-R_t$, follows the distribution $\\sigma_RN(0,\\Delta t) (\\Delta t = 1  here)$. Therefore we calculate the $\\sigma_R$ over the 10 seconds bin and get the std in the unit of 10 seconds"
   ]
  },
  {
   "cell_type": "code",
   "execution_count": 4,
   "id": "84343914",
   "metadata": {},
   "outputs": [
    {
     "data": {
      "text/plain": [
       "date       time     id trade     mid      spread        vol         adv           Rt          sigma_R    \r\n",
       "---------------------------------------------------------------------------------------------------------\r\n",
       "2019.01.03 09:30:00 0  454071.8  91.715   0.001148717   0.000446367 1.122415e+008 -0.02958659 0.001080587\r\n",
       "2019.01.03 09:30:10 0  -171833.3 91.72671 0.001072136   0.000446367 1.122415e+008 -0.02971043 0.001080587\r\n",
       "2019.01.03 09:30:20 0  -301.2193 91.58853 7.658112e-005 0.000446367 1.122415e+008 -0.02824664 0.001080587\r\n",
       "2019.01.03 09:30:30 0  -78884.65 91.65646 0.000612649   0.000446367 1.122415e+008 -0.02896681 0.001080587\r\n",
       "2019.01.03 09:30:40 0  -24705.54 91.60259 0.0008423923  0.000446367 1.122415e+008 -0.02839575 0.001080587\r\n",
       "2019.01.03 09:30:50 0  -92166.19 91.58385 0.0005871219  0.000446367 1.122415e+008 -0.02819692 0.001080587\r\n",
       "2019.01.03 09:31:00 0  -22823.01 91.56276 0.000663703   0.000446367 1.122415e+008 -0.02797313 0.001080587\r\n",
       "2019.01.03 09:31:10 0  -4940.182 91.59088 0.0005615949  0.000446367 1.122415e+008 -0.02827149 0.001080587\r\n",
       "2019.01.03 09:31:20 0  -41691.88 91.59322 0.0005360678  0.000446367 1.122415e+008 -0.02829635 0.001080587\r\n",
       "2019.01.03 09:31:30 0  -539826.4 91.60727 0.0007402842  0.000446367 1.122415e+008 -0.02844544 0.001080587\r\n",
       "2019.01.03 09:31:40 0  -53883.89 91.5487  0.0004594867  0.000446367 1.122415e+008 -0.02782386 0.001080587\r\n",
       "2019.01.03 09:31:50 0  316896.2  91.56745 0.0003063245  0.000446367 1.122415e+008 -0.02802287 0.001080587\r\n",
       "2019.01.03 09:32:00 0  8767.784  91.82033 0.0004594867  0.000446367 1.122415e+008 -0.03069975 0.001080587\r\n",
       "2019.01.03 09:32:10 0  132407.8  91.84138 0.000638176   0.000446367 1.122415e+008 -0.030922   0.001080587\r\n",
       "2019.01.03 09:32:20 0  -52051.64 92.02614 0.0005615949  0.000446367 1.122415e+008 -0.03286751 0.001080587\r\n",
       "2019.01.03 09:32:30 0  441082.8  92.01445 0.0004339597  0.000446367 1.122415e+008 -0.03274466 0.001080587\r\n",
       "2019.01.03 09:32:40 0  -182.6154 92.23874 0.000638176   0.000446367 1.122415e+008 -0.03509664 0.001080587\r\n",
       "2019.01.03 09:32:50 0  4196.414  92.18269 0.0002807974  0.000446367 1.122415e+008 -0.03450997 0.001080587\r\n",
       "2019.01.03 09:33:00 0  112899.5  92.36479 0.0007402842  0.000446367 1.122415e+008 -0.03641345 0.001080587\r\n",
       "2019.01.03 09:33:10 0  -51038.96 92.27376 0.000612649   0.000446367 1.122415e+008 -0.03546287 0.001080587\r\n",
       "2019.01.03 09:33:20 0  -20440.02 92.19904 0.0003063245  0.000446367 1.122415e+008 -0.03468117 0.001080587\r\n",
       "2019.01.03 09:33:30 0  -121802   92.20604 0.0003318515  0.000446367 1.122415e+008 -0.03475452 0.001080587\r\n",
       "2019.01.03 09:33:40 0  24287.28  92.07989 0.0005360678  0.000446367 1.122415e+008 -0.03343212 0.001080587\r\n",
       "2019.01.03 09:33:50 0  -14046.25 92.17101 0.0004084326  0.000446367 1.122415e+008 -0.03438764 0.001080587\r\n",
       "2019.01.03 09:34:00 0  -12283.33 92.17334 0.0004850138  0.000446367 1.122415e+008 -0.03441211 0.001080587\r\n",
       "2019.01.03 09:34:10 0  -106524.7 92.16634 0.0003573786  0.000446367 1.122415e+008 -0.03433869 0.001080587\r\n",
       "2019.01.03 09:34:20 0  0         92.04016 0.000663703   0.000446367 1.122415e+008 -0.03301488 0.001080587\r\n",
       "2019.01.03 09:34:30 0  -229900.1 92.00276 0.0002552704  0.000446367 1.122415e+008 -0.03262178 0.001080587\r\n",
       "2019.01.03 09:34:40 0  18159.89  91.88817 0.0003318515  0.000446367 1.122415e+008 -0.03141545 0.001080587\r\n",
       "2019.01.03 09:34:50 0  25469.17  91.85074 0.0005360678  0.000446367 1.122415e+008 -0.03102074 0.001080587\r\n",
       "2019.01.03 09:35:00 0  -18781.33 91.94197 0.0003063245  0.000446367 1.122415e+008 -0.03198214 0.001080587\r\n",
       "2019.01.03 09:35:10 0  3026.875  91.89285 0.0005871219  0.000446367 1.122415e+008 -0.03146476 0.001080587\r\n",
       "2019.01.03 09:35:20 0  -21253.42 91.90689 0.0005360678  0.000446367 1.122415e+008 -0.03161265 0.001080587\r\n",
       "2019.01.03 09:35:30 0  -37882.34 91.86946 0.0007402842  0.000446367 1.122415e+008 -0.03121814 0.001080587\r\n",
       "2019.01.03 09:35:40 0  0         91.82033 0.0007147571  0.000446367 1.122415e+008 -0.03069975 0.001080587\r\n",
       "2019.01.03 09:35:50 0  38337.81  91.82267 0.000638176   0.000446367 1.122415e+008 -0.03072445 0.001080587\r\n",
       "2019.01.03 09:36:00 0  -261640.9 91.83437 0.0003063245  0.000446367 1.122415e+008 -0.03084793 0.001080587\r\n",
       "2019.01.03 09:36:10 0  -358734   91.70095 0.0004850138  0.000446367 1.122415e+008 -0.02943793 0.001080587\r\n",
       "2019.01.03 09:36:20 0  -24277.96 91.74309 0.0004339597  0.000446367 1.122415e+008 -0.02988374 0.001080587\r\n",
       "2019.01.03 09:36:30 0  -7837.575 91.63538 0.0007913382  0.000446367 1.122415e+008 -0.02874345 0.001080587\r\n",
       "2019.01.03 09:36:40 0  -68098.53 91.60962 0.0005105408  0.000446367 1.122415e+008 -0.02847028 0.001080587\r\n",
       "2019.01.03 09:36:50 0  -187543.1 91.56979 0.0003318515  0.000446367 1.122415e+008 -0.02804774 0.001080587\r\n",
       "2019.01.03 09:37:00 0  -445392.8 91.45495 0.0003063245  0.000446367 1.122415e+008 -0.02682728 0.001080587\r\n",
       "2019.01.03 09:37:10 0  24626.54  91.25089 0.0004850138  0.000446367 1.122415e+008 -0.02465101 0.001080587\r\n",
       "2019.01.03 09:37:20 0  -8152.001 91.27436 0.0004339597  0.000446367 1.122415e+008 -0.02490177 0.001080587\r\n",
       "..\r\n"
      ]
     },
     "execution_count": 4,
     "metadata": {},
     "output_type": "execute_result"
    }
   ],
   "source": [
    "/ estimate sigma_R\n",
    "/deltas with first element zero\n",
    "deltas0:{first[x] -': x }\n",
    "tb1_1 : update sigma_R: sqrt (6*(var deltas0[Rt])) by id from tb1 / time 6 to be in minute frequency\n",
    "tb1_1"
   ]
  },
  {
   "cell_type": "code",
   "execution_count": 5,
   "id": "e243fa8b",
   "metadata": {
    "scrolled": true
   },
   "outputs": [
    {
     "data": {
      "text/plain": [
       "date       time     id sigma_R     wt            at           diff_at\r\n",
       "---------------------------------------------------------------------\r\n",
       "2019.01.03 09:30:00 0  0.001080587 0             -0.004862345 0      \r\n",
       "2019.01.03 09:30:10 0  0.001080587 -0.0003140073 -0.004963354 0      \r\n",
       "2019.01.03 09:30:20 0  0.001080587 -0.0004800894 -0.004879142 0      \r\n",
       "2019.01.03 09:30:30 0  0.001080587 -0.0006981943 -0.005006375 0      \r\n",
       "2019.01.03 09:30:40 0  0.001080587 7.338283e-005 -0.004734168 0      \r\n",
       "2019.01.03 09:30:50 0  0.001080587 -0.0002051903 -0.004795996 0      \r\n",
       "2019.01.03 09:31:00 0  0.001080587 -0.0005659077 -0.004879085 0      \r\n",
       "2019.01.03 09:31:10 0  0.001080587 -0.0003292024 -0.004838198 0      \r\n",
       "2019.01.03 09:31:20 0  0.001080587 0.0001964824  -0.004689993 0      \r\n",
       "2019.01.03 09:31:30 0  0.001080587 0.0001355396  -0.004720852 0      \r\n",
       "2019.01.03 09:31:40 0  0.001080587 -0.0001771738 -0.004754402 0      \r\n",
       "2019.01.03 09:31:50 0  0.001080587 -0.0006220371 -0.004899625 0      \r\n",
       "2019.01.03 09:32:00 0  0.001080587 -0.000583419  -0.005129493 0      \r\n",
       "2019.01.03 09:32:10 0  0.001080587 -0.0007222471 -0.005189225 0      \r\n",
       "2019.01.03 09:32:20 0  0.001080587 -0.00140952   -0.005561006 0      \r\n",
       "2019.01.03 09:32:30 0  0.001080587 -0.0007802026 -0.005369851 0      \r\n",
       "2019.01.03 09:32:40 0  0.001080587 -0.0007655227 -0.005577328 0      \r\n",
       "2019.01.03 09:32:50 0  0.001080587 -0.0002751724 -0.005384198 0      \r\n",
       "2019.01.03 09:33:00 0  0.001080587 0.0004331542  -0.005352801 0      \r\n",
       "2019.01.03 09:33:10 0  0.001080587 0.0008612489  -0.005144736 0      \r\n",
       "2019.01.03 09:33:20 0  0.001080587 0.0005259055  -0.005170353 0      \r\n",
       "2019.01.03 09:33:30 0  0.001080587 0.000572411   -0.005163645 0      \r\n",
       "2019.01.03 09:33:40 0  0.001080587 0.0007440228  -0.004995516 0      \r\n",
       "2019.01.03 09:33:50 0  0.001080587 0.0008676535  -0.005046132 0      \r\n",
       "2019.01.03 09:34:00 0  0.001080587 0.001097018   -0.004982695 0      \r\n",
       "2019.01.03 09:34:10 0  0.001080587 0.001511532   -0.004857461 0      \r\n",
       "2019.01.03 09:34:20 0  0.001080587 0.002014881   -0.004594268 0      \r\n",
       "2019.01.03 09:34:30 0  0.001080587 0.001500557   -0.004706079 0      \r\n",
       "2019.01.03 09:34:40 0  0.001080587 0.001379179   -0.004632246 0      \r\n",
       "2019.01.03 09:34:50 0  0.001080587 0.002212001   -0.004358384 0      \r\n",
       "2019.01.03 09:35:00 0  0.001080587 0.001635761   -0.00460982  0      \r\n",
       "2019.01.03 09:35:10 0  0.001080587 0.001679184   -0.004550828 0      \r\n",
       "2019.01.03 09:35:20 0  0.001080587 0.001172035   -0.004709275 0      \r\n",
       "2019.01.03 09:35:30 0  0.001080587 0.002069215   -0.004417013 0      \r\n",
       "2019.01.03 09:35:40 0  0.001080587 0.001884549   -0.004423205 0      \r\n",
       "2019.01.03 09:35:50 0  0.001080587 0.001445211   -0.004551159 0      \r\n",
       "2019.01.03 09:36:00 0  0.001080587 0.001035597   -0.004679496 0      \r\n",
       "2019.01.03 09:36:10 0  0.001080587 0.0009000865  -0.004591377 0      \r\n",
       "2019.01.03 09:36:20 0  0.001080587 0.001328556   -0.00450888  0      \r\n",
       "2019.01.03 09:36:30 0  0.001080587 0.002044238   -0.004201438 0      \r\n",
       "2019.01.03 09:36:40 0  0.001080587 0.002188398   -0.004135597 0      \r\n",
       "2019.01.03 09:36:50 0  0.001080587 0.002509236   -0.00400575  0      \r\n",
       "2019.01.03 09:37:00 0  0.001080587 0.002062006   -0.004023898 0      \r\n",
       "2019.01.03 09:37:10 0  0.001080587 0.001383479   -0.004022216 0      \r\n",
       "2019.01.03 09:37:20 0  0.001080587 0.001352214   -0.004053732 0      \r\n",
       "..\r\n"
      ]
     },
     "execution_count": 5,
     "metadata": {},
     "output_type": "execute_result"
    }
   ],
   "source": [
    "/pseudo standard gaussian random number generator\n",
    "\n",
    "u12: {[n] -6f+sum n cut (12* n)?1f}\n",
    "/ generate wt series with w0 = 0\n",
    "tb1_2: update wt: sigma_R*sums (0,u12[-1+count time]) %sqrt 6 by id from tb1_1 /%6 to change frequency from seconds to minutes\n",
    "tb1_3: update at:(Rt*0.09)+(sqrt 0.0819)*wt- last wt by id from tb1_2\n",
    "tb1_3: update diff_at: 0^(at-xprev[60;at])%10 by id from tb1_3 / in minute frequency\n",
    "select date,time,id,sigma_R,wt,at,diff_at from tb1_3"
   ]
  },
  {
   "cell_type": "markdown",
   "id": "1aaa6a53",
   "metadata": {},
   "source": [
    "# Exercise 2"
   ]
  },
  {
   "cell_type": "markdown",
   "id": "20c2f237",
   "metadata": {},
   "source": [
    "## Simulate the target impact state for the optimal trading strategy"
   ]
  },
  {
   "cell_type": "code",
   "execution_count": 6,
   "id": "d605adc9",
   "metadata": {},
   "outputs": [
    {
     "data": {
      "text/plain": [
       "0.01155245\r\n"
      ]
     },
     "execution_count": 6,
     "metadata": {},
     "output_type": "execute_result"
    },
    {
     "data": {
      "text/plain": [
       "date       time     id at           diff_at It          \r\n",
       "--------------------------------------------------------\r\n",
       "2019.01.03 09:30:00 0  -0.004862345 0       -0.002431172\r\n",
       "2019.01.03 09:30:10 0  -0.004963354 0       -0.002481677\r\n",
       "2019.01.03 09:30:20 0  -0.004879142 0       -0.002439571\r\n",
       "2019.01.03 09:30:30 0  -0.005006375 0       -0.002503187\r\n",
       "2019.01.03 09:30:40 0  -0.004734168 0       -0.002367084\r\n",
       "2019.01.03 09:30:50 0  -0.004795996 0       -0.002397998\r\n",
       "2019.01.03 09:31:00 0  -0.004879085 0       -0.002439543\r\n",
       "2019.01.03 09:31:10 0  -0.004838198 0       -0.002419099\r\n",
       "2019.01.03 09:31:20 0  -0.004689993 0       -0.002344997\r\n",
       "2019.01.03 09:31:30 0  -0.004720852 0       -0.002360426\r\n",
       "2019.01.03 09:31:40 0  -0.004754402 0       -0.002377201\r\n",
       "2019.01.03 09:31:50 0  -0.004899625 0       -0.002449813\r\n",
       "2019.01.03 09:32:00 0  -0.005129493 0       -0.002564746\r\n",
       "2019.01.03 09:32:10 0  -0.005189225 0       -0.002594613\r\n",
       "2019.01.03 09:32:20 0  -0.005561006 0       -0.002780503\r\n",
       "2019.01.03 09:32:30 0  -0.005369851 0       -0.002684925\r\n",
       "2019.01.03 09:32:40 0  -0.005577328 0       -0.002788664\r\n",
       "2019.01.03 09:32:50 0  -0.005384198 0       -0.002692099\r\n",
       "2019.01.03 09:33:00 0  -0.005352801 0       -0.002676401\r\n",
       "2019.01.03 09:33:10 0  -0.005144736 0       -0.002572368\r\n",
       "2019.01.03 09:33:20 0  -0.005170353 0       -0.002585176\r\n",
       "2019.01.03 09:33:30 0  -0.005163645 0       -0.002581823\r\n",
       "2019.01.03 09:33:40 0  -0.004995516 0       -0.002497758\r\n",
       "2019.01.03 09:33:50 0  -0.005046132 0       -0.002523066\r\n",
       "2019.01.03 09:34:00 0  -0.004982695 0       -0.002491347\r\n",
       "2019.01.03 09:34:10 0  -0.004857461 0       -0.00242873 \r\n",
       "2019.01.03 09:34:20 0  -0.004594268 0       -0.002297134\r\n",
       "2019.01.03 09:34:30 0  -0.004706079 0       -0.00235304 \r\n",
       "2019.01.03 09:34:40 0  -0.004632246 0       -0.002316123\r\n",
       "2019.01.03 09:34:50 0  -0.004358384 0       -0.002179192\r\n",
       "2019.01.03 09:35:00 0  -0.00460982  0       -0.00230491 \r\n",
       "2019.01.03 09:35:10 0  -0.004550828 0       -0.002275414\r\n",
       "2019.01.03 09:35:20 0  -0.004709275 0       -0.002354638\r\n",
       "2019.01.03 09:35:30 0  -0.004417013 0       -0.002208506\r\n",
       "2019.01.03 09:35:40 0  -0.004423205 0       -0.002211603\r\n",
       "2019.01.03 09:35:50 0  -0.004551159 0       -0.002275579\r\n",
       "2019.01.03 09:36:00 0  -0.004679496 0       -0.002339748\r\n",
       "2019.01.03 09:36:10 0  -0.004591377 0       -0.002295689\r\n",
       "2019.01.03 09:36:20 0  -0.00450888  0       -0.00225444 \r\n",
       "2019.01.03 09:36:30 0  -0.004201438 0       -0.002100719\r\n",
       "2019.01.03 09:36:40 0  -0.004135597 0       -0.002067799\r\n",
       "2019.01.03 09:36:50 0  -0.00400575  0       -0.002002875\r\n",
       "2019.01.03 09:37:00 0  -0.004023898 0       -0.002011949\r\n",
       "2019.01.03 09:37:10 0  -0.004022216 0       -0.002011108\r\n",
       "2019.01.03 09:37:20 0  -0.004053732 0       -0.002026866\r\n",
       "..\r\n"
      ]
     },
     "execution_count": 6,
     "metadata": {},
     "output_type": "execute_result"
    }
   ],
   "source": [
    "beta_float : log[2]%60\n",
    "beta_float\n",
    "tb2: update It: 0.5* at-diff_at%beta_float by id from tb1_3\n",
    "select date,time,id,at,diff_at,It from tb2"
   ]
  },
  {
   "cell_type": "markdown",
   "id": "edfa6bda",
   "metadata": {},
   "source": [
    "## Given an impact state, simulate the corresponding trades"
   ]
  },
  {
   "cell_type": "code",
   "execution_count": 7,
   "id": "3dd51077",
   "metadata": {},
   "outputs": [
    {
     "data": {
      "text/plain": [
       "date       time     id dqt      \r\n",
       "--------------------------------\r\n",
       "2019.01.03 09:30:00 0  -3041.6  \r\n",
       "2019.01.03 09:30:10 0  -35921.29\r\n",
       "2019.01.03 09:30:20 0  24307.26 \r\n",
       "2019.01.03 09:30:30 0  -44468.17\r\n",
       "2019.01.03 09:30:40 0  85475.3  \r\n",
       "2019.01.03 09:30:50 0  -23087.37\r\n",
       "2019.01.03 09:31:00 0  -30046.66\r\n",
       "2019.01.03 09:31:10 0  10257.37 \r\n",
       "2019.01.03 09:31:20 0  45216.08 \r\n",
       "2019.01.03 09:31:30 0  -12978.76\r\n",
       "2019.01.03 09:31:40 0  -13874.23\r\n",
       "2019.01.03 09:31:50 0  -50246.08\r\n",
       "2019.01.03 09:32:00 0  -77889.75\r\n",
       "2019.01.03 09:32:10 0  -22652.56\r\n",
       "2019.01.03 09:32:20 0  -124265.8\r\n",
       "2019.01.03 09:32:30 0  58745.06 \r\n",
       "2019.01.03 09:32:40 0  -70895.7 \r\n",
       "2019.01.03 09:32:50 0  59377.5  \r\n",
       "2019.01.03 09:33:00 0  6852.118 \r\n",
       "2019.01.03 09:33:10 0  64379.62 \r\n",
       "2019.01.03 09:33:20 0  -11556.84\r\n",
       "2019.01.03 09:33:30 0  -1050.887\r\n",
       "2019.01.03 09:33:40 0  51498.15 \r\n",
       "2019.01.03 09:33:50 0  -19601.1 \r\n",
       "2019.01.03 09:34:00 0  17493.21 \r\n",
       "2019.01.03 09:34:10 0  37648.37 \r\n",
       "2019.01.03 09:34:20 0  82634.24 \r\n",
       "2019.01.03 09:34:30 0  -39269.91\r\n",
       "2019.01.03 09:34:40 0  21089.89 \r\n",
       "2019.01.03 09:34:50 0  86248.12 \r\n",
       "2019.01.03 09:35:00 0  -84572.08\r\n",
       "2019.01.03 09:35:10 0  16318.99 \r\n",
       "2019.01.03 09:35:20 0  -54423.47\r\n",
       "2019.01.03 09:35:30 0  92189.5  \r\n",
       "2019.01.03 09:35:40 0  -4778.812\r\n",
       "2019.01.03 09:35:50 0  -44417.48\r\n",
       "2019.01.03 09:36:00 0  -44622.49\r\n",
       "2019.01.03 09:36:10 0  25756.68 \r\n",
       "2019.01.03 09:36:20 0  23981.88 \r\n",
       "2019.01.03 09:36:30 0  97255.86 \r\n",
       "2019.01.03 09:36:40 0  18804    \r\n",
       "2019.01.03 09:36:50 0  39679.87 \r\n",
       "2019.01.03 09:37:00 0  -8413.168\r\n",
       "2019.01.03 09:37:10 0  -1969.506\r\n",
       "2019.01.03 09:37:20 0  -12774.84\r\n",
       "..\r\n"
      ]
     },
     "execution_count": 7,
     "metadata": {},
     "output_type": "execute_result"
    }
   ],
   "source": [
    "tb2_1: update dqt:((beta_float*It%6)+deltas0[It])%(8*vol*sqrt (6*60*6.5))%adv by id from tb2\n",
    "select date,time,id,dqt from tb2_1"
   ]
  },
  {
   "cell_type": "markdown",
   "id": "019252fd",
   "metadata": {},
   "source": [
    "## For each stock, compute the final order size as a percent of adv.Provide a scatter-plot of alpha strength against optimal order size across the whole universe of stocks and the full year of 2019. Here, alpha strength means the alpha at the beginning of the day, i.e., α0."
   ]
  },
  {
   "cell_type": "code",
   "execution_count": 8,
   "id": "56a88169",
   "metadata": {},
   "outputs": [
    {
     "data": {
      "text/plain": [
       "id| at            final_order_per\r\n",
       "--| -----------------------------\r\n",
       "0 | -0.004862345  -0.07278774    \r\n",
       "1 | 0.004197255   -0.0568033     \r\n",
       "2 | -0.002083366  -0.01275963    \r\n",
       "3 | -0.00621884   -0.0522837     \r\n",
       "4 | 0.003598055   0.04943349     \r\n",
       "5 | 0.004702884   0.0006103578   \r\n",
       "6 | -0.003348036  -0.08759164    \r\n",
       "7 | 0.003348736   0.07511919     \r\n",
       "8 | 0.003908461   -0.03142794    \r\n",
       "9 | 0.004219729   -0.06057841    \r\n",
       "10| 0.001152932   0.006003659    \r\n",
       "11| 0.003568397   -0.02362839    \r\n",
       "12| 0.004568671   0.0375332      \r\n",
       "13| -0.004801279  0.008571896    \r\n",
       "14| 0.002948775   0.0438875      \r\n",
       "15| -0.0007660121 0.003392258    \r\n",
       "16| -0.02435545   -0.04472164    \r\n",
       "17| -0.006704924  -0.01921703    \r\n",
       "18| -0.004743082  -0.03443163    \r\n",
       "19| -0.008804309  -0.07233433    \r\n",
       "20| 3.996683e-005 0.03473952     \r\n",
       "21| 0.005338456   0.04718433     \r\n",
       "22| 0.01167275    0.07632916     \r\n",
       "23| -0.00439078   -0.04837097    \r\n",
       "24| -0.004979217  -0.06009726    \r\n",
       "25| -0.003573456  0.003709497    \r\n",
       "26| -0.003359179  -0.02236102    \r\n",
       "27| -0.008399321  -0.03390767    \r\n",
       "28| 0.005071745   -0.07766612    \r\n",
       "29| -0.01277447   -0.06614649    \r\n",
       "30| -0.004463626  -0.03069919    \r\n",
       "31| -0.003736909  -0.006706199   \r\n",
       "32| -0.007842447  -0.09423066    \r\n",
       "33| 0.002479684   -0.004896831   \r\n",
       "34| -0.003394998  0.04397634     \r\n",
       "35| -0.001874294  -0.07616123    \r\n",
       "36| 0.008908333   0.02845995     \r\n",
       "37| 0.01087619    0.03254381     \r\n",
       "38| 0.008546783   0.0102171      \r\n",
       "39| -0.004158989  -0.01596002    \r\n",
       "40| -0.004354887  -0.05471192    \r\n",
       "41| 0.006946094   0.08049317     \r\n",
       "42| -0.007647819  -0.01415647    \r\n",
       "43| 0.01069569    0.1181536      \r\n",
       "44| -0.01056393   0.0001697729   \r\n",
       "..\r\n"
      ]
     },
     "execution_count": 8,
     "metadata": {},
     "output_type": "execute_result"
    }
   ],
   "source": [
    "tb2_2: select first at,final_order_per: sum dqt%adv by id from tb2_1\n",
    "tb2_2"
   ]
  },
  {
   "cell_type": "code",
   "execution_count": 9,
   "id": "983192f2",
   "metadata": {},
   "outputs": [
    {
     "data": {
      "text/plain": [
       "id| at            optimal_order_size optimal_order_percent\r\n",
       "--| ------------------------------------------------------\r\n",
       "0 | -0.004862345  -8169804           -0.07278774          \r\n",
       "1 | 0.004197255   -2049012           -0.0568033           \r\n",
       "2 | -0.002083366  -176953.1          -0.01275963          \r\n",
       "3 | -0.00621884   -623631.4          -0.0522837           \r\n",
       "4 | 0.003598055   998088.9           0.04943349           \r\n",
       "5 | 0.004702884   4840.818           0.0006103578         \r\n",
       "6 | -0.003348036  -1568673           -0.08759164          \r\n",
       "7 | 0.003348736   745362.7           0.07511919           \r\n",
       "8 | 0.003908461   -1085132           -0.03142794          \r\n",
       "9 | 0.004219729   -1128163           -0.06057841          \r\n",
       "10| 0.001152932   517908             0.006003659          \r\n",
       "11| 0.003568397   -1372151           -0.02362839          \r\n",
       "12| 0.004568671   1124583            0.0375332            \r\n",
       "13| -0.004801279  131850.8           0.008571896          \r\n",
       "14| 0.002948775   4.337563e+007      0.0438875            \r\n",
       "15| -0.0007660121 247827             0.003392258          \r\n",
       "16| -0.02435545   -8646487           -0.04472164          \r\n",
       "17| -0.006704924  -164714.4          -0.01921703          \r\n",
       "18| -0.004743082  -299263            -0.03443163          \r\n",
       "19| -0.008804309  -8269164           -0.07233433          \r\n",
       "20| 3.996683e-005 1902645            0.03473952           \r\n",
       "21| 0.005338456   4892586            0.04718433           \r\n",
       "22| 0.01167275    1036529            0.07632916           \r\n",
       "23| -0.00439078   -781540.2          -0.04837097          \r\n",
       "24| -0.004979217  -1084299           -0.06009726          \r\n",
       "25| -0.003573456  98265.12           0.003709497          \r\n",
       "26| -0.003359179  -304467.9          -0.02236102          \r\n",
       "27| -0.008399321  -530759.5          -0.03390767          \r\n",
       "28| 0.005071745   -1388941           -0.07766612          \r\n",
       "29| -0.01277447   -3865821           -0.06614649          \r\n",
       "30| -0.004463626  -1165068           -0.03069919          \r\n",
       "31| -0.003736909  -151662.3          -0.006706199         \r\n",
       "32| -0.007842447  -4383344           -0.09423066          \r\n",
       "33| 0.002479684   -59724.44          -0.004896831         \r\n",
       "34| -0.003394998  1073815            0.04397634           \r\n",
       "35| -0.001874294  -4192502           -0.07616123          \r\n",
       "36| 0.008908333   1334024            0.02845995           \r\n",
       "37| 0.01087619    602052.2           0.03254381           \r\n",
       "38| 0.008546783   497946.5           0.0102171            \r\n",
       "39| -0.004158989  -234174.3          -0.01596002          \r\n",
       "40| -0.004354887  -76848.93          -0.05471192          \r\n",
       "41| 0.006946094   798421.4           0.08049317           \r\n",
       "42| -0.007647819  -98456.92          -0.01415647          \r\n",
       "43| 0.01069569    1919761            0.1181536            \r\n",
       "44| -0.01056393   4481.354           0.0001697729         \r\n",
       "..\r\n"
      ]
     },
     "execution_count": 9,
     "metadata": {},
     "output_type": "execute_result"
    },
    {
     "data": {
      "text/plain": [
       "`:E:/pycharm/PycharmProjects/kdbq/w9/tb2_3.csv\r\n"
      ]
     },
     "execution_count": 9,
     "metadata": {},
     "output_type": "execute_result"
    }
   ],
   "source": [
    "tb2_3: select first at,optimal_order_size: sum dqt,optimal_order_percent: sum dqt%adv by id from tb2_1\n",
    "tb2_3\n",
    "save `E:/pycharm/PycharmProjects/kdbq/w9/tb2_3.csv"
   ]
  },
  {
   "cell_type": "code",
   "execution_count": 10,
   "id": "0676404c",
   "metadata": {},
   "outputs": [
    {
     "data": {
      "image/png": "[encoded data removed]",
      "text/plain": [
       "<Figure size 460.8x345.6 with 1 Axes>"
      ]
     },
     "metadata": {},
     "output_type": "display_data"
    },
    {
     "data": {
      "image/png": "[encoded data removed]",
      "text/plain": [
       "<Figure size 460.8x345.6 with 1 Axes>"
      ]
     },
     "metadata": {},
     "output_type": "display_data"
    }
   ],
   "source": [
    "/plot\n",
    "p)import matplotlib.pyplot as plt\n",
    "p)import pandas as pd\n",
    "p)import warnings\n",
    "p)warnings.filterwarnings(\"ignore\")\n",
    "p)q3=pd.read_csv('E:/pycharm/PycharmProjects/kdbq/w9/tb2_3.csv')\n",
    "p)q3.plot.scatter(x = 'at',y = 'optimal_order_size')\n",
    "p)plt.title('Optimal order size vs alpha strength')\n",
    "p)plt.show()\n",
    "p)q3.plot.scatter(x = 'at',y = 'optimal_order_percent')\n",
    "p)plt.title('Optimal order percent vs alpha strength')\n",
    "p)plt.show()"
   ]
  },
  {
   "cell_type": "code",
   "execution_count": 11,
   "id": "d05bf270",
   "metadata": {},
   "outputs": [],
   "source": [
    "/ optimal order size\n",
    "dts:select distinct date from bin10\n",
    "dts_list: exec date from dts\n",
    "size_vs_alpha:{[dt]\n",
    "    tb1:select from bin10 where date=dt;\n",
    "    tb1: update reverse fills reverse date,\n",
    "         reverse fills reverse mid,\n",
    "         reverse fills reverse spread,\n",
    "         reverse fills reverse vol,\n",
    "         reverse fills reverse adv\n",
    "         by id from tb1;\n",
    "    tb1: update Rt: -1+(last mid)%mid by id from tb1;\n",
    "    tb1_1 : update sigma_R: sqrt (6*(var deltas0[Rt])) by id from tb1; / time 6 to get minute frequency volatility\n",
    "    tb1_2: update wt: sigma_R*sums (0,u12[-1+count time]) %sqrt 6 by id from tb1_1; / %6 to get minute frequency standard normal distribution\n",
    "    tb1_3: update at:(Rt*0.09)+(sqrt 0.0819)*wt- last wt by id from tb1_2;\n",
    "    tb1_3: update diff_at: 0^(at-xprev[60;at])%10 by id from tb1_3; / in minute freq\n",
    "    tb2: update It: 0.5* at-diff_at%beta_float by id from tb1_3;\n",
    "    tb2_1: update dqt:((beta_float*It%6)+deltas0[It])%(8*vol*sqrt (6*60*6.5))%adv by id from tb2; / %6 to get minute frequency\n",
    "    select first at,optimal_order_size: sum dqt,optimal_order_percent: sum dqt%adv by date,id from tb2_1\n",
    "    }\n"
   ]
  },
  {
   "cell_type": "code",
   "execution_count": 12,
   "id": "f61c66ee",
   "metadata": {},
   "outputs": [
    {
     "data": {
      "text/plain": [
       "39339\r\n"
      ]
     },
     "execution_count": 12,
     "metadata": {},
     "output_type": "execute_result"
    }
   ],
   "source": [
    "\\t tb3:raze size_vs_alpha peach dts_list"
   ]
  },
  {
   "cell_type": "code",
   "execution_count": 13,
   "id": "9d2441c1",
   "metadata": {},
   "outputs": [
    {
     "data": {
      "text/plain": [
       "`:E:/pycharm/PycharmProjects/kdbq/w9/tb3.csv\r\n"
      ]
     },
     "execution_count": 13,
     "metadata": {},
     "output_type": "execute_result"
    }
   ],
   "source": [
    "/ save table\n",
    "save `E:/pycharm/PycharmProjects/kdbq/w9/tb3.csv"
   ]
  },
  {
   "cell_type": "code",
   "execution_count": 14,
   "id": "8dbf2c5c",
   "metadata": {},
   "outputs": [
    {
     "data": {
      "image/png": "[encoded data removed]",
      "text/plain": [
       "<Figure size 460.8x345.6 with 1 Axes>"
      ]
     },
     "metadata": {},
     "output_type": "display_data"
    },
    {
     "data": {
      "image/png": "[encoded data removed]",
      "text/plain": [
       "<Figure size 460.8x345.6 with 1 Axes>"
      ]
     },
     "metadata": {},
     "output_type": "display_data"
    }
   ],
   "source": [
    "/plot\n",
    "p)import matplotlib.pyplot as plt\n",
    "p)import pandas as pd\n",
    "p)q3=pd.read_csv('E:/pycharm/PycharmProjects/kdbq/w9/tb3.csv')\n",
    "p)q3.plot.scatter(x = 'at',y = 'optimal_order_size')\n",
    "p)plt.title('Optimal order size vs alpha strength')\n",
    "p)plt.show()\n",
    "p)q3.plot.scatter(x = 'at',y = 'optimal_order_percent')\n",
    "p)plt.title('Optimal order percent vs alpha strength')\n",
    "p)plt.show()"
   ]
  }
 ],
 "metadata": {
  "kernelspec": {
   "display_name": "Q (kdb+)",
   "language": "q",
   "name": "qpk"
  },
  "language_info": {
   "file_extension": ".q",
   "mimetype": "text/x-q",
   "name": "q",
   "version": "4.0"
  }
 },
 "nbformat": 4,
 "nbformat_minor": 5
}
