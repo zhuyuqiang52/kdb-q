{
 "cells": [
  {
   "cell_type": "code",
   "execution_count": 1,
   "id": "963ebb4f",
   "metadata": {},
   "outputs": [],
   "source": [
    "\\l E:\\pycharm\\PycharmProjects\\kdbq\\columbiaHdb\\2019.01.03 / Loading and Checking data"
   ]
  },
  {
   "cell_type": "code",
   "execution_count": 2,
   "id": "c8cf6030",
   "metadata": {},
   "outputs": [
    {
     "data": {
      "text/plain": [
       "time     id date       trade     mid      spread        vol         adv      ..\r\n",
       "-----------------------------------------------------------------------------..\r\n",
       "09:30:00 0  2019.01.03 454071.8  91.715   0.001148717   0.000446367 1.122415e..\r\n",
       "09:30:10 0  2019.01.03 -171833.3 91.72671 0.001072136   0.000446367 1.122415e..\r\n",
       "09:30:20 0  2019.01.03 -301.2193 91.58853 7.658112e-005 0.000446367 1.122415e..\r\n",
       "09:30:30 0  2019.01.03 -78884.65 91.65646 0.000612649   0.000446367 1.122415e..\r\n",
       "09:30:40 0  2019.01.03 -24705.54 91.60259 0.0008423923  0.000446367 1.122415e..\r\n",
       "09:30:50 0  2019.01.03 -92166.19 91.58385 0.0005871219  0.000446367 1.122415e..\r\n",
       "09:31:00 0  2019.01.03 -22823.01 91.56276 0.000663703   0.000446367 1.122415e..\r\n",
       "09:31:10 0  2019.01.03 -4940.182 91.59088 0.0005615949  0.000446367 1.122415e..\r\n",
       "09:31:20 0  2019.01.03 -41691.88 91.59322 0.0005360678  0.000446367 1.122415e..\r\n",
       "09:31:30 0  2019.01.03 -539826.4 91.60727 0.0007402842  0.000446367 1.122415e..\r\n",
       "09:31:40 0  2019.01.03 -53883.89 91.5487  0.0004594867  0.000446367 1.122415e..\r\n",
       "09:31:50 0  2019.01.03 316896.2  91.56745 0.0003063245  0.000446367 1.122415e..\r\n",
       "09:32:00 0  2019.01.03 8767.784  91.82033 0.0004594867  0.000446367 1.122415e..\r\n",
       "09:32:10 0  2019.01.03 132407.8  91.84138 0.000638176   0.000446367 1.122415e..\r\n",
       "09:32:20 0  2019.01.03 -52051.64 92.02614 0.0005615949  0.000446367 1.122415e..\r\n",
       "09:32:30 0  2019.01.03 441082.8  92.01445 0.0004339597  0.000446367 1.122415e..\r\n",
       "09:32:40 0  2019.01.03 -182.6154 92.23874 0.000638176   0.000446367 1.122415e..\r\n",
       "09:32:50 0  2019.01.03 4196.414  92.18269 0.0002807974  0.000446367 1.122415e..\r\n",
       "09:33:00 0  2019.01.03 112899.5  92.36479 0.0007402842  0.000446367 1.122415e..\r\n",
       "09:33:10 0  2019.01.03 -51038.96 92.27376 0.000612649   0.000446367 1.122415e..\r\n",
       "..\r\n"
      ]
     },
     "execution_count": 2,
     "metadata": {},
     "output_type": "execute_result"
    }
   ],
   "source": [
    "/ Filling nan\n",
    "bin10: update reverse fills reverse date,\n",
    "     reverse fills reverse mid,\n",
    "     reverse fills reverse spread,\n",
    "     reverse fills reverse vol,\n",
    "     reverse fills reverse adv\n",
    "     by id from bin10\n",
    "select  from bin10"
   ]
  },
  {
   "cell_type": "markdown",
   "id": "122e04b9",
   "metadata": {},
   "source": [
    "# Exercise 1"
   ]
  },
  {
   "cell_type": "markdown",
   "id": "5fe2eb31",
   "metadata": {},
   "source": [
    "## TWAP Schedule"
   ]
  },
  {
   "cell_type": "code",
   "execution_count": 3,
   "id": "ed6bdff6",
   "metadata": {},
   "outputs": [],
   "source": [
    "twap: {[trade;adv;size]\n",
    "        time_ct_int : count(trade); / count time units\n",
    "        traded_size : size%time_ct_int; / size divide to get trading schdule\n",
    "        time_ct_int#traded_size}"
   ]
  },
  {
   "cell_type": "markdown",
   "id": "bd2b67e6",
   "metadata": {},
   "source": [
    "## VWAP Schedule"
   ]
  },
  {
   "cell_type": "code",
   "execution_count": 4,
   "id": "8bf926a8",
   "metadata": {},
   "outputs": [],
   "source": [
    "vwap:{[trade;adv;size]\n",
    "    vol_weight : abs(trade)%adv; / trade percentage as weight\n",
    "    vol_weight*size}"
   ]
  },
  {
   "cell_type": "markdown",
   "id": "c3276bff",
   "metadata": {},
   "source": [
    "## PoV Schedule"
   ]
  },
  {
   "cell_type": "code",
   "execution_count": 5,
   "id": "1bbac415",
   "metadata": {},
   "outputs": [],
   "source": [
    "part_rate_float : 0.1\n",
    "pov:{[trade;adv;size]\n",
    "    deltas (sums part_rate_float*abs trade) & size / &: return samller one; deltas: return difference between adjacent value\n",
    "    }"
   ]
  },
  {
   "cell_type": "markdown",
   "id": "1a32b76f",
   "metadata": {},
   "source": [
    "## Simulation with 3 schedules"
   ]
  },
  {
   "cell_type": "code",
   "execution_count": 6,
   "id": "3044a905",
   "metadata": {},
   "outputs": [],
   "source": [
    "/ use stock with id 0\n",
    "size: 1000000\n",
    "tb1_4: select twap_schedule : twap[trade;adv;size],\n",
    "                    vwap_schedule : vwap[trade;adv;size],\n",
    "                    pov_schedule : pov[trade;adv;size] from bin10 where id=0\n"
   ]
  },
  {
   "cell_type": "code",
   "execution_count": 7,
   "id": "f814993d",
   "metadata": {},
   "outputs": [
    {
     "data": {
      "text/plain": [
       "twap_schedule vwap_schedule pov_schedule\r\n",
       "----------------------------------------\r\n",
       "427.1679      4045.49       45407.18    \r\n",
       "427.1679      1530.925      17183.33    \r\n",
       "427.1679      2.683672      30.12193    \r\n",
       "427.1679      702.8119      7888.465    \r\n",
       "427.1679      220.1106      2470.554    \r\n",
       "427.1679      821.142       9216.619    \r\n",
       "427.1679      203.3384      2282.301    \r\n",
       "427.1679      44.01387      494.0182    \r\n",
       "427.1679      371.448       4169.188    \r\n",
       "427.1679      4809.508      53982.64    \r\n",
       "427.1679      480.071       5388.389    \r\n",
       "427.1679      2823.343      31689.62    \r\n",
       "427.1679      78.11536      876.7784    \r\n",
       "427.1679      1179.669      13240.78    \r\n",
       "427.1679      463.7469      5205.164    \r\n",
       "427.1679      3929.767      44108.28    \r\n",
       "427.1679      1.626987      18.26154    \r\n",
       "427.1679      37.38737      419.6414    \r\n",
       "427.1679      1005.862      11289.95    \r\n",
       "427.1679      454.7246      5103.896    \r\n",
       "..\r\n"
      ]
     },
     "execution_count": 7,
     "metadata": {},
     "output_type": "execute_result"
    }
   ],
   "source": [
    "tb1_4"
   ]
  },
  {
   "cell_type": "markdown",
   "id": "f0b069cd",
   "metadata": {},
   "source": [
    "## "
   ]
  },
  {
   "cell_type": "code",
   "execution_count": 8,
   "id": "4378f189",
   "metadata": {},
   "outputs": [],
   "source": [
    "tb1_5: select  vwap_schedule : vwap[trade;adv;0.1* adv],\n",
    "                        pov_schedule : pov[trade;adv;0.1*adv] from bin10 where id=0"
   ]
  },
  {
   "cell_type": "code",
   "execution_count": 9,
   "id": "58cd2e16",
   "metadata": {},
   "outputs": [
    {
     "data": {
      "text/plain": [
       "vwap_schedule pov_schedule\r\n",
       "--------------------------\r\n",
       "45407.18      45407.18    \r\n",
       "17183.33      17183.33    \r\n",
       "30.12193      30.12193    \r\n",
       "7888.465      7888.465    \r\n",
       "2470.554      2470.554    \r\n",
       "9216.619      9216.619    \r\n",
       "2282.301      2282.301    \r\n",
       "494.0182      494.0182    \r\n",
       "4169.188      4169.188    \r\n",
       "53982.64      53982.64    \r\n",
       "5388.389      5388.389    \r\n",
       "31689.62      31689.62    \r\n",
       "876.7784      876.7784    \r\n",
       "13240.78      13240.78    \r\n",
       "5205.164      5205.164    \r\n",
       "44108.28      44108.28    \r\n",
       "18.26154      18.26154    \r\n",
       "419.6414      419.6414    \r\n",
       "11289.95      11289.95    \r\n",
       "5103.896      5103.896    \r\n",
       "..\r\n"
      ]
     },
     "execution_count": 9,
     "metadata": {},
     "output_type": "execute_result"
    }
   ],
   "source": [
    "tb1_5"
   ]
  },
  {
   "cell_type": "markdown",
   "id": "595f3c44",
   "metadata": {},
   "source": [
    "### The schedules given by the two strategies under perfect volume prediction are the same."
   ]
  },
  {
   "cell_type": "markdown",
   "id": "5e160e39",
   "metadata": {},
   "source": [
    "# Exercise 2"
   ]
  },
  {
   "cell_type": "markdown",
   "id": "9db1762d",
   "metadata": {},
   "source": [
    "## Computation of Impact adjusted price"
   ]
  },
  {
   "cell_type": "code",
   "execution_count": 10,
   "id": "22e5cf0e",
   "metadata": {},
   "outputs": [],
   "source": [
    "/ Impact model with given parameter: lambda = 0.8, halflife = 60 mins\n",
    "computeImpact: {[trade;vol;adv;h] \n",
    "    dt:1;\n",
    "    beta: (log 2)%h*6;\n",
    "    dv:vol*sqrt (6*60*6.5);\n",
    "    lamb:0.8;\n",
    "    b:beta*dt;\n",
    "    (neg count trade)#ema[b;][0,(lamb*dv*trade%adv)%b]}"
   ]
  },
  {
   "cell_type": "code",
   "execution_count": 11,
   "id": "e92836ba",
   "metadata": {},
   "outputs": [],
   "source": [
    "tb2: update twap_trade: twap[trade;adv;0.1*adv] by id from bin10 /computing twap trade (historical strategy) schedule "
   ]
  },
  {
   "cell_type": "code",
   "execution_count": 12,
   "id": "f7270845",
   "metadata": {},
   "outputs": [
    {
     "data": {
      "text/plain": [
       "time     id date       trade     mid      spread        vol         adv      ..\r\n",
       "-----------------------------------------------------------------------------..\r\n",
       "09:30:00 0  2019.01.03 454071.8  91.715   0.001148717   0.000446367 1.122415e..\r\n",
       "09:30:10 0  2019.01.03 -171833.3 91.72671 0.001072136   0.000446367 1.122415e..\r\n",
       "09:30:20 0  2019.01.03 -301.2193 91.58853 7.658112e-005 0.000446367 1.122415e..\r\n",
       "09:30:30 0  2019.01.03 -78884.65 91.65646 0.000612649   0.000446367 1.122415e..\r\n",
       "09:30:40 0  2019.01.03 -24705.54 91.60259 0.0008423923  0.000446367 1.122415e..\r\n",
       "09:30:50 0  2019.01.03 -92166.19 91.58385 0.0005871219  0.000446367 1.122415e..\r\n",
       "09:31:00 0  2019.01.03 -22823.01 91.56276 0.000663703   0.000446367 1.122415e..\r\n",
       "09:31:10 0  2019.01.03 -4940.182 91.59088 0.0005615949  0.000446367 1.122415e..\r\n",
       "09:31:20 0  2019.01.03 -41691.88 91.59322 0.0005360678  0.000446367 1.122415e..\r\n",
       "09:31:30 0  2019.01.03 -539826.4 91.60727 0.0007402842  0.000446367 1.122415e..\r\n",
       "09:31:40 0  2019.01.03 -53883.89 91.5487  0.0004594867  0.000446367 1.122415e..\r\n",
       "09:31:50 0  2019.01.03 316896.2  91.56745 0.0003063245  0.000446367 1.122415e..\r\n",
       "09:32:00 0  2019.01.03 8767.784  91.82033 0.0004594867  0.000446367 1.122415e..\r\n",
       "09:32:10 0  2019.01.03 132407.8  91.84138 0.000638176   0.000446367 1.122415e..\r\n",
       "09:32:20 0  2019.01.03 -52051.64 92.02614 0.0005615949  0.000446367 1.122415e..\r\n",
       "09:32:30 0  2019.01.03 441082.8  92.01445 0.0004339597  0.000446367 1.122415e..\r\n",
       "09:32:40 0  2019.01.03 -182.6154 92.23874 0.000638176   0.000446367 1.122415e..\r\n",
       "09:32:50 0  2019.01.03 4196.414  92.18269 0.0002807974  0.000446367 1.122415e..\r\n",
       "09:33:00 0  2019.01.03 112899.5  92.36479 0.0007402842  0.000446367 1.122415e..\r\n",
       "09:33:10 0  2019.01.03 -51038.96 92.27376 0.000612649   0.000446367 1.122415e..\r\n",
       "..\r\n"
      ]
     },
     "execution_count": 12,
     "metadata": {},
     "output_type": "execute_result"
    }
   ],
   "source": [
    "tb2"
   ]
  },
  {
   "cell_type": "code",
   "execution_count": 13,
   "id": "c4985609",
   "metadata": {},
   "outputs": [
    {
     "data": {
      "text/plain": [
       "time     id date       trade     mid      spread        vol         adv      ..\r\n",
       "-----------------------------------------------------------------------------..\r\n",
       "09:30:00 0  2019.01.03 454071.8  91.715   0.001148717   0.000446367 1.122415e..\r\n",
       "09:30:10 0  2019.01.03 -171833.3 91.72671 0.001072136   0.000446367 1.122415e..\r\n",
       "09:30:20 0  2019.01.03 -301.2193 91.58853 7.658112e-005 0.000446367 1.122415e..\r\n",
       "09:30:30 0  2019.01.03 -78884.65 91.65646 0.000612649   0.000446367 1.122415e..\r\n",
       "09:30:40 0  2019.01.03 -24705.54 91.60259 0.0008423923  0.000446367 1.122415e..\r\n",
       "09:30:50 0  2019.01.03 -92166.19 91.58385 0.0005871219  0.000446367 1.122415e..\r\n",
       "09:31:00 0  2019.01.03 -22823.01 91.56276 0.000663703   0.000446367 1.122415e..\r\n",
       "09:31:10 0  2019.01.03 -4940.182 91.59088 0.0005615949  0.000446367 1.122415e..\r\n",
       "09:31:20 0  2019.01.03 -41691.88 91.59322 0.0005360678  0.000446367 1.122415e..\r\n",
       "09:31:30 0  2019.01.03 -539826.4 91.60727 0.0007402842  0.000446367 1.122415e..\r\n",
       "09:31:40 0  2019.01.03 -53883.89 91.5487  0.0004594867  0.000446367 1.122415e..\r\n",
       "09:31:50 0  2019.01.03 316896.2  91.56745 0.0003063245  0.000446367 1.122415e..\r\n",
       "09:32:00 0  2019.01.03 8767.784  91.82033 0.0004594867  0.000446367 1.122415e..\r\n",
       "09:32:10 0  2019.01.03 132407.8  91.84138 0.000638176   0.000446367 1.122415e..\r\n",
       "09:32:20 0  2019.01.03 -52051.64 92.02614 0.0005615949  0.000446367 1.122415e..\r\n",
       "09:32:30 0  2019.01.03 441082.8  92.01445 0.0004339597  0.000446367 1.122415e..\r\n",
       "09:32:40 0  2019.01.03 -182.6154 92.23874 0.000638176   0.000446367 1.122415e..\r\n",
       "09:32:50 0  2019.01.03 4196.414  92.18269 0.0002807974  0.000446367 1.122415e..\r\n",
       "09:33:00 0  2019.01.03 112899.5  92.36479 0.0007402842  0.000446367 1.122415e..\r\n",
       "09:33:10 0  2019.01.03 -51038.96 92.27376 0.000612649   0.000446367 1.122415e..\r\n",
       "..\r\n"
      ]
     },
     "execution_count": 13,
     "metadata": {},
     "output_type": "execute_result"
    }
   ],
   "source": [
    "/ caculate historical strategy's impact\n",
    "tb2_1: update twap_impact:computeImpact[twap_trade;vol;adv;60] by id from tb2\n",
    "/mid price - twap impact to get fundamenal price\n",
    "tb2_1: update Impact_adjusted_price: mid-twap_impact by id from tb2_1\n",
    "\n",
    "tb2_1"
   ]
  },
  {
   "cell_type": "markdown",
   "id": "cedcd33d",
   "metadata": {},
   "source": [
    "## New price with twap schedule impact"
   ]
  },
  {
   "cell_type": "code",
   "execution_count": 14,
   "id": "60a4ca72",
   "metadata": {},
   "outputs": [],
   "source": [
    "/ impacted price constructed by adding fundamental price with impact from twap schedule\n",
    "tb2_2:update twap_20_trade: twap[trade;adv;0.2*adv] by id from tb2_1\n",
    "tb2_2:update twap_20_impact: computeImpact[twap_20_trade;vol;adv;60] by id from tb2_2\n",
    "tb2_2 :update twap_price: twap_20_impact+Impact_adjusted_price from tb2_2"
   ]
  },
  {
   "cell_type": "code",
   "execution_count": 15,
   "id": "bf966eaf",
   "metadata": {},
   "outputs": [
    {
     "data": {
      "text/plain": [
       "time     id date       trade     mid      spread        vol         adv      ..\r\n",
       "-----------------------------------------------------------------------------..\r\n",
       "09:30:00 0  2019.01.03 454071.8  91.715   0.001148717   0.000446367 1.122415e..\r\n",
       "09:30:10 0  2019.01.03 -171833.3 91.72671 0.001072136   0.000446367 1.122415e..\r\n",
       "09:30:20 0  2019.01.03 -301.2193 91.58853 7.658112e-005 0.000446367 1.122415e..\r\n",
       "09:30:30 0  2019.01.03 -78884.65 91.65646 0.000612649   0.000446367 1.122415e..\r\n",
       "09:30:40 0  2019.01.03 -24705.54 91.60259 0.0008423923  0.000446367 1.122415e..\r\n",
       "09:30:50 0  2019.01.03 -92166.19 91.58385 0.0005871219  0.000446367 1.122415e..\r\n",
       "09:31:00 0  2019.01.03 -22823.01 91.56276 0.000663703   0.000446367 1.122415e..\r\n",
       "09:31:10 0  2019.01.03 -4940.182 91.59088 0.0005615949  0.000446367 1.122415e..\r\n",
       "09:31:20 0  2019.01.03 -41691.88 91.59322 0.0005360678  0.000446367 1.122415e..\r\n",
       "09:31:30 0  2019.01.03 -539826.4 91.60727 0.0007402842  0.000446367 1.122415e..\r\n",
       "09:31:40 0  2019.01.03 -53883.89 91.5487  0.0004594867  0.000446367 1.122415e..\r\n",
       "09:31:50 0  2019.01.03 316896.2  91.56745 0.0003063245  0.000446367 1.122415e..\r\n",
       "09:32:00 0  2019.01.03 8767.784  91.82033 0.0004594867  0.000446367 1.122415e..\r\n",
       "09:32:10 0  2019.01.03 132407.8  91.84138 0.000638176   0.000446367 1.122415e..\r\n",
       "09:32:20 0  2019.01.03 -52051.64 92.02614 0.0005615949  0.000446367 1.122415e..\r\n",
       "09:32:30 0  2019.01.03 441082.8  92.01445 0.0004339597  0.000446367 1.122415e..\r\n",
       "09:32:40 0  2019.01.03 -182.6154 92.23874 0.000638176   0.000446367 1.122415e..\r\n",
       "09:32:50 0  2019.01.03 4196.414  92.18269 0.0002807974  0.000446367 1.122415e..\r\n",
       "09:33:00 0  2019.01.03 112899.5  92.36479 0.0007402842  0.000446367 1.122415e..\r\n",
       "09:33:10 0  2019.01.03 -51038.96 92.27376 0.000612649   0.000446367 1.122415e..\r\n",
       "..\r\n"
      ]
     },
     "execution_count": 15,
     "metadata": {},
     "output_type": "execute_result"
    }
   ],
   "source": [
    "tb2_2"
   ]
  },
  {
   "cell_type": "markdown",
   "id": "8b20128f",
   "metadata": {},
   "source": [
    "## New price with vwap schedule impact"
   ]
  },
  {
   "cell_type": "code",
   "execution_count": 16,
   "id": "028aa7e3",
   "metadata": {},
   "outputs": [],
   "source": [
    "/ impacted price constructed by adding fundamental price with impact from vwap schedule\n",
    "tb2_3:update vwap_10_trade:vwap[trade;adv;0.1*adv] by id from tb2_2\n",
    "tb2_3:update vwap_impact: computeImpact[vwap_10_trade;vol;adv;60] by id from tb2_3\n",
    "tb2_3:update vwap_price: vwap_impact+Impact_adjusted_price from tb2_3"
   ]
  },
  {
   "cell_type": "code",
   "execution_count": 17,
   "id": "d90ecec8",
   "metadata": {},
   "outputs": [
    {
     "data": {
      "text/plain": [
       "time     id date       trade     mid      spread        vol         adv      ..\r\n",
       "-----------------------------------------------------------------------------..\r\n",
       "09:30:00 0  2019.01.03 454071.8  91.715   0.001148717   0.000446367 1.122415e..\r\n",
       "09:30:10 0  2019.01.03 -171833.3 91.72671 0.001072136   0.000446367 1.122415e..\r\n",
       "09:30:20 0  2019.01.03 -301.2193 91.58853 7.658112e-005 0.000446367 1.122415e..\r\n",
       "09:30:30 0  2019.01.03 -78884.65 91.65646 0.000612649   0.000446367 1.122415e..\r\n",
       "09:30:40 0  2019.01.03 -24705.54 91.60259 0.0008423923  0.000446367 1.122415e..\r\n",
       "09:30:50 0  2019.01.03 -92166.19 91.58385 0.0005871219  0.000446367 1.122415e..\r\n",
       "09:31:00 0  2019.01.03 -22823.01 91.56276 0.000663703   0.000446367 1.122415e..\r\n",
       "09:31:10 0  2019.01.03 -4940.182 91.59088 0.0005615949  0.000446367 1.122415e..\r\n",
       "09:31:20 0  2019.01.03 -41691.88 91.59322 0.0005360678  0.000446367 1.122415e..\r\n",
       "09:31:30 0  2019.01.03 -539826.4 91.60727 0.0007402842  0.000446367 1.122415e..\r\n",
       "09:31:40 0  2019.01.03 -53883.89 91.5487  0.0004594867  0.000446367 1.122415e..\r\n",
       "09:31:50 0  2019.01.03 316896.2  91.56745 0.0003063245  0.000446367 1.122415e..\r\n",
       "09:32:00 0  2019.01.03 8767.784  91.82033 0.0004594867  0.000446367 1.122415e..\r\n",
       "09:32:10 0  2019.01.03 132407.8  91.84138 0.000638176   0.000446367 1.122415e..\r\n",
       "09:32:20 0  2019.01.03 -52051.64 92.02614 0.0005615949  0.000446367 1.122415e..\r\n",
       "09:32:30 0  2019.01.03 441082.8  92.01445 0.0004339597  0.000446367 1.122415e..\r\n",
       "09:32:40 0  2019.01.03 -182.6154 92.23874 0.000638176   0.000446367 1.122415e..\r\n",
       "09:32:50 0  2019.01.03 4196.414  92.18269 0.0002807974  0.000446367 1.122415e..\r\n",
       "09:33:00 0  2019.01.03 112899.5  92.36479 0.0007402842  0.000446367 1.122415e..\r\n",
       "09:33:10 0  2019.01.03 -51038.96 92.27376 0.000612649   0.000446367 1.122415e..\r\n",
       "..\r\n"
      ]
     },
     "execution_count": 17,
     "metadata": {},
     "output_type": "execute_result"
    }
   ],
   "source": [
    "tb2_3"
   ]
  },
  {
   "cell_type": "markdown",
   "id": "db887994",
   "metadata": {},
   "source": [
    "## historical strategy's average impact costs"
   ]
  },
  {
   "cell_type": "code",
   "execution_count": 18,
   "id": "89d7c92d",
   "metadata": {},
   "outputs": [],
   "source": [
    "deltas0:{\n",
    "            0^first[x] -': x} /replace nan , first value, with 0"
   ]
  },
  {
   "cell_type": "markdown",
   "id": "539fb971",
   "metadata": {},
   "source": [
    "### Impact cost = $(I_{n-1}+0.5*\\Delta_nI)\\Delta_nQ=0.5*(I_{n-1}+I_n)\\Delta_nQ$"
   ]
  },
  {
   "cell_type": "code",
   "execution_count": 19,
   "id": "dbe92c82",
   "metadata": {},
   "outputs": [
    {
     "data": {
      "text/plain": [
       "id| hist_impact_cost twap_impact_cost vwap_impact_cost\r\n",
       "--| --------------------------------------------------\r\n",
       "0 | 3358.554         13434.22         3347.984        \r\n",
       "1 | 866.2965         3465.186         816.4247        \r\n",
       "2 | 448.7952         1795.181         445.82          \r\n",
       "3 | 373.1715         1492.686         371.5399        \r\n",
       "4 | 495.8013         1983.205         495.4129        \r\n",
       "5 | 274.6777         1098.711         271.5745        \r\n",
       "6 | 570.735          2282.94          547.8297        \r\n",
       "7 | 280.9139         1123.656         273.6034        \r\n",
       "8 | 1734.306         6937.222         1727.165        \r\n",
       "9 | 832.5131         3330.052         801.4711        \r\n",
       "10| 4133.657         16534.63         4031.517        \r\n",
       "11| 1504.229         6016.916         1472.007        \r\n",
       "12| 768.9616         3075.846         748.9827        \r\n",
       "13| 492.3009         1969.203         506.1516        \r\n",
       "14| 33873.31         135493.2         32622.74        \r\n",
       "15| 1823.752         7295.009         1799.466        \r\n",
       "16| 12035.46         48141.85         11392.23        \r\n",
       "17| 370.1575         1480.63          344.0359        \r\n",
       "18| 374.2418         1496.967         384.276         \r\n",
       "19| 3325.972         13303.89         3298.074        \r\n",
       "..\r\n"
      ]
     },
     "execution_count": 19,
     "metadata": {},
     "output_type": "execute_result"
    }
   ],
   "source": [
    "tb2_4: select hist_impact_cost:sum 0.5*((1 xprev twap_impact)+twap_impact)*twap_trade,\n",
    "                        twap_impact_cost: sum  0.5*((1 xprev twap_20_impact)+twap_20_impact)*twap_20_trade,\n",
    "                        vwap_impact_cost:sum 0.5*((1 xprev vwap_impact)+vwap_impact)*vwap_10_trade\n",
    "            by id from tb2_3\n",
    "tb2_4"
   ]
  },
  {
   "cell_type": "code",
   "execution_count": 20,
   "id": "23c3d6b9",
   "metadata": {},
   "outputs": [
    {
     "data": {
      "text/plain": [
       "hist_impact_cost twap_impact_cost vwap_impact_cost\r\n",
       "--------------------------------------------------\r\n",
       "1260.103         5040.41          1223.044        \r\n"
      ]
     },
     "execution_count": 20,
     "metadata": {},
     "output_type": "execute_result"
    }
   ],
   "source": [
    "tb2_4_2: select hist_impact_cost: avg hist_impact_cost,\n",
    "                        twap_impact_cost: avg twap_impact_cost,\n",
    "                        vwap_impact_cost: avg vwap_impact_cost\n",
    "            from tb2_4\n",
    "tb2_4_2"
   ]
  },
  {
   "cell_type": "markdown",
   "id": "d8494d8a",
   "metadata": {},
   "source": [
    "## historical strategy's average P&L"
   ]
  },
  {
   "cell_type": "markdown",
   "id": "9809e4e6",
   "metadata": {},
   "source": [
    "### P&L = $Q_{n-1}\\Delta_nS-0.5*(I_{n-1}+I_n)\\Delta_nQ$"
   ]
  },
  {
   "cell_type": "code",
   "execution_count": 21,
   "id": "b37422fe",
   "metadata": {},
   "outputs": [
    {
     "data": {
      "text/plain": [
       "id| hist_pnl       twap_pnl       vwap_pnl      \r\n",
       "--| --------------------------------------------\r\n",
       "0 | -7891535       -1.578979e+007 -9268188      \r\n",
       "1 | -1992323       -3986378       -2401699      \r\n",
       "2 | -304490.5      -609878.5      -247643.7     \r\n",
       "3 | -201442.2      -403630.8      -201335.8     \r\n",
       "4 | -72147.09      -145285.8      -111040.9     \r\n",
       "5 | -106998.6      -214546.5      -96305.88     \r\n",
       "6 | -610545.8      -1222233       -623465       \r\n",
       "7 | -54423.89      -109409.6      -53741.18     \r\n",
       "8 | -6.499172e+007 -1.299869e+008 -5.097454e+007\r\n",
       "9 | -1511281       -3024226       -1413493      \r\n",
       "10| -4.825846e+007 -9.652518e+007 -4.355535e+007\r\n",
       "11| -5347013       -1.069703e+007 -4866449      \r\n",
       "12| -948049.9      -1897638       -774795.9     \r\n",
       "13| -1517818       -3036621       -1198468      \r\n",
       "14| -8.026742e+007 -1.606026e+008 -7.925849e+007\r\n",
       "15| -1177120       -2357887       -1107397      \r\n",
       "16| -4408824       -8841719       -3945615      \r\n",
       "17| -361639        -724018.3      -333231.9     \r\n",
       "18| -317909.6      -636567.8      -280734.7     \r\n",
       "19| -3675434       -7357519       -3352388      \r\n",
       "..\r\n"
      ]
     },
     "execution_count": 21,
     "metadata": {},
     "output_type": "execute_result"
    }
   ],
   "source": [
    "tb2_5: select hist_pnl:sum ((sums 1 xprev twap_trade) * deltas0[Impact_adjusted_price])-0.5*((1 xprev twap_impact)+twap_impact)*twap_trade,\n",
    "                        twap_pnl: sum ((sums 1 xprev twap_20_trade) * deltas0[Impact_adjusted_price])- 0.5*((1 xprev twap_20_impact)+twap_20_impact)*twap_20_trade,\n",
    "                        vwap_pnl:sum ((sums 1 xprev vwap_10_trade) * deltas0[Impact_adjusted_price])-0.5*((1 xprev vwap_impact)+vwap_impact)*vwap_10_trade\n",
    "            by id from tb2_3\n",
    "tb2_5"
   ]
  },
  {
   "cell_type": "code",
   "execution_count": 22,
   "id": "dcc8ad13",
   "metadata": {},
   "outputs": [],
   "source": [
    "tb2_5:select hist_pnl: avg hist_pnl,twap_pnl:avg twap_pnl,vwap_pnl:avg vwap_pnl from tb2_5"
   ]
  },
  {
   "cell_type": "code",
   "execution_count": 23,
   "id": "d997f87d",
   "metadata": {},
   "outputs": [
    {
     "data": {
      "text/plain": [
       "hist_pnl      twap_pnl       vwap_pnl\r\n",
       "-------------------------------------\r\n",
       "-1.00401e+007 -2.008272e+007 -9047580\r\n"
      ]
     },
     "execution_count": 23,
     "metadata": {},
     "output_type": "execute_result"
    }
   ],
   "source": [
    "tb2_5"
   ]
  }
 ],
 "metadata": {
  "kernelspec": {
   "display_name": "Q (kdb+)",
   "language": "q",
   "name": "qpk"
  },
  "language_info": {
   "file_extension": ".q",
   "mimetype": "text/x-q",
   "name": "q",
   "version": "4.0"
  }
 },
 "nbformat": 4,
 "nbformat_minor": 5
}
